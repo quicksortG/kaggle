{
 "cells": [
  {
   "cell_type": "code",
   "execution_count": 473,
   "metadata": {},
   "outputs": [
    {
     "name": "stdout",
     "output_type": "stream",
     "text": [
      "--Start--\n",
      "count      1460.000000\n",
      "mean     180921.195890\n",
      "std       79442.502883\n",
      "min       34900.000000\n",
      "25%      129975.000000\n",
      "50%      163000.000000\n",
      "75%      214000.000000\n",
      "max      755000.000000\n",
      "Name: SalePrice, dtype: float64\n",
      "(1460, 81)\n",
      "(1459, 80)\n"
     ]
    }
   ],
   "source": [
    "#invite people for the Kaggle party\n",
    "import pandas as pd\n",
    "import matplotlib.pyplot as plt\n",
    "import seaborn as sns\n",
    "import numpy as np\n",
    "from scipy.stats import norm\n",
    "from sklearn.preprocessing import StandardScaler\n",
    "from scipy import stats\n",
    "import warnings\n",
    "import time\n",
    "from sklearn.linear_model import LinearRegression\n",
    "from sklearn.preprocessing import LabelEncoder\n",
    "\n",
    "warnings.filterwarnings('ignore')\n",
    "%matplotlib inline\n",
    "\n",
    "print(\"--Start--\")\n",
    "start = time.time()\n",
    "\n",
    "# データの読み込み\n",
    "test = pd.read_csv('gs://sample_machine_learning_input/HousePrices/test.csv')\n",
    "df_train = pd.read_csv('gs://sample_machine_learning_input/HousePrices/train.csv')\n",
    "\n",
    "train_id = df_train['Id']\n",
    "test_id = test['Id']\n",
    "\n",
    "#SalePriceカラム要約\n",
    "print(df_train['SalePrice'].describe())\n",
    "print(df_train.shape)\n",
    "print(test.shape)"
   ]
  },
  {
   "cell_type": "code",
   "execution_count": 474,
   "metadata": {},
   "outputs": [
    {
     "name": "stdout",
     "output_type": "stream",
     "text": [
      "歪度: 1.882876\n",
      "尖度: 6.536282\n"
     ]
    },
    {
     "data": {
      "image/png": "[encoded data removed]",
      "text/plain": [
       "<Figure size 432x288 with 1 Axes>"
      ]
     },
     "metadata": {},
     "output_type": "display_data"
    }
   ],
   "source": [
    "sns.distplot(df_train['SalePrice'])\n",
    "\n",
    "print(\"歪度: %f\" % df_train['SalePrice'].skew())\n",
    "print(\"尖度: %f\" % df_train['SalePrice'].kurt())"
   ]
  },
  {
   "cell_type": "code",
   "execution_count": 475,
   "metadata": {},
   "outputs": [],
   "source": [
    "total = df_train.isnull().sum().sort_values(ascending=False)\n",
    "percent = (df_train.isnull().sum()/df_train.isnull().count()).sort_values(ascending=False)\n",
    "missing_data = pd.concat([total, percent], axis=1, keys=['Total', 'Percent'])\n",
    "missing_data.head(20)\n",
    "\n",
    "df_train = df_train.drop((missing_data[missing_data['Total'] > 1]).index,1)\n",
    "df_train = df_train.drop(df_train.loc[df_train['Electrical'].isnull()].index)\n",
    "df_train.isnull().sum().max()\n",
    "\n",
    "test = test.drop((missing_data[missing_data['Total'] > 1]).index,1)\n",
    "test = test.drop(df_train.loc[df_train['Electrical'].isnull()].index)\n",
    "test.isnull().sum().max()\n",
    "\n",
    "\n",
    "saleprice_scaled = StandardScaler().fit_transform(df_train['SalePrice'][:,np.newaxis]);\n",
    "low_range = saleprice_scaled[saleprice_scaled[:,0].argsort()][:10]\n",
    "high_range= saleprice_scaled[saleprice_scaled[:,0].argsort()][-10:]\n",
    "\n",
    "df_train.sort_values(by = 'GrLivArea', ascending = False)[:2]\n",
    "df_train = df_train.drop(df_train[df_train['Id'] == 1299].index)\n",
    "df_train = df_train.drop(df_train[df_train['Id'] == 524].index)\n"
   ]
  },
  {
   "cell_type": "code",
   "execution_count": 476,
   "metadata": {},
   "outputs": [],
   "source": [
    "df_train['SalePrice'] = np.log(df_train['SalePrice'])\n"
   ]
  },
  {
   "cell_type": "code",
   "execution_count": 477,
   "metadata": {},
   "outputs": [],
   "source": [
    "df_train['GrLivArea'] = np.log(df_train['GrLivArea'])\n",
    "test['GrLivArea'] = np.log(test['GrLivArea'])"
   ]
  },
  {
   "cell_type": "code",
   "execution_count": 478,
   "metadata": {},
   "outputs": [],
   "source": [
    "df_train['HasBsmt'] = pd.Series(len(df_train['TotalBsmtSF']), index=df_train.index)\n",
    "df_train['HasBsmt'] = 0 \n",
    "df_train.loc[df_train['TotalBsmtSF']>0,'HasBsmt'] = 1\n",
    "\n",
    "test['HasBsmt'] = pd.Series(len(test['TotalBsmtSF']), index=test.index)\n",
    "test['HasBsmt'] = 0 \n",
    "test.loc[test['TotalBsmtSF']>0,'HasBsmt'] = 1\n",
    "\n",
    "df_train.loc[df_train['HasBsmt']==1,'TotalBsmtSF'] = np.log(df_train['TotalBsmtSF'])\n",
    "test.loc[test['HasBsmt']==1,'TotalBsmtSF'] = np.log(test['TotalBsmtSF'])"
   ]
  },
  {
   "cell_type": "code",
   "execution_count": 479,
   "metadata": {},
   "outputs": [],
   "source": [
    "#df_train = pd.get_dummies(df_train)\n",
    "#test = pd.get_dummies(test)\n",
    "\n",
    "# データタイプがobjectの列の値をラベル化した数値に変換\n",
    "for i in range(df_train.shape[1]):\n",
    "    if df_train.iloc[:,i].dtypes == object:\n",
    "        lbl = LabelEncoder()\n",
    "        lbl.fit(list(df_train.iloc[:,i].values) + list(test.iloc[:,i].values))\n",
    "        df_train.iloc[:,i] = lbl.transform(list(df_train.iloc[:,i].values))\n",
    "        test.iloc[:,i] = lbl.transform(list(test.iloc[:,i].values))\n",
    "        \n",
    "\n",
    "Xmat = pd.concat([df_train, test])  \n",
    "#欠損値の少ないカラムのNaNは中央値(median)で埋める\n",
    "Xmat = Xmat.fillna(Xmat.median())\n",
    "#trainデータとtestデータを含んでいるXmatを、再度trainデータとtestデータに分割\n",
    "df_train = Xmat.iloc[:df_train.shape[0],:]\n",
    "test = Xmat.iloc[df_train.shape[0]:,:]\n"
   ]
  },
  {
   "cell_type": "code",
   "execution_count": 480,
   "metadata": {},
   "outputs": [],
   "source": [
    "y = df_train['SalePrice']\n",
    "df_train = df_train.drop(['Id','SalePrice'],axis=1)\n",
    "test = test.drop(['Id','SalePrice'],axis=1)\n"
   ]
  },
  {
   "cell_type": "code",
   "execution_count": 481,
   "metadata": {},
   "outputs": [
    {
     "name": "stdout",
     "output_type": "stream",
     "text": [
      "0.9197755948458384\n"
     ]
    }
   ],
   "source": [
    "skl = LinearRegression()\n",
    "skl.fit(df_train,y)\n",
    "print(skl.score(df_train,y))\n",
    "\n"
   ]
  },
  {
   "cell_type": "code",
   "execution_count": 482,
   "metadata": {},
   "outputs": [
    {
     "name": "stdout",
     "output_type": "stream",
     "text": [
      "   1stFlrSF  2ndFlrSF  3SsnPorch  BedroomAbvGr  BldgType  BsmtFinSF1  \\\n",
      "0       856       854          0             3         0       706.0   \n",
      "1      1262         0          0             3         0       978.0   \n",
      "2       920       866          0             3         0       486.0   \n",
      "3       961       756          0             3         0       216.0   \n",
      "4      1145      1053          0             4         0       655.0   \n",
      "\n",
      "   BsmtFinSF2  BsmtFullBath  BsmtHalfBath  BsmtUnfSF  CentralAir  Condition1  \\\n",
      "0         0.0           1.0           0.0      150.0           1           2   \n",
      "1         0.0           0.0           1.0      284.0           1           1   \n",
      "2         0.0           1.0           0.0      434.0           1           2   \n",
      "3         0.0           1.0           0.0      540.0           1           2   \n",
      "4         0.0           1.0           0.0      490.0           1           2   \n",
      "\n",
      "   Condition2  Electrical  EnclosedPorch  ExterCond  ExterQual  Exterior1st  \\\n",
      "0           2           4              0          4          2           12   \n",
      "1           2           4              0          4          3            8   \n",
      "2           2           4              0          4          2           12   \n",
      "3           2           4            272          4          3           13   \n",
      "4           2           4              0          4          2           12   \n",
      "\n",
      "   Exterior2nd  Fireplaces  Foundation  FullBath  Functional  GarageArea  \\\n",
      "0           13           0           2         2           6       548.0   \n",
      "1            8           1           1         2           6       460.0   \n",
      "2           13           1           2         2           6       608.0   \n",
      "3           15           1           0         1           6       642.0   \n",
      "4           13           1           2         2           6       836.0   \n",
      "\n",
      "   GarageCars  GrLivArea  HalfBath  HasBsmt  Heating  HeatingQC  HouseStyle  \\\n",
      "0         2.0   7.444249         1        1        1          0           5   \n",
      "1         2.0   7.140453         0        1        1          0           2   \n",
      "2         2.0   7.487734         1        1        1          0           5   \n",
      "3         3.0   7.448334         0        1        1          2           5   \n",
      "4         3.0   7.695303         1        1        1          0           5   \n",
      "\n",
      "   KitchenAbvGr  KitchenQual  LandContour  LandSlope  LotArea  LotConfig  \\\n",
      "0             1            2            3          0     8450          4   \n",
      "1             1            3            3          0     9600          2   \n",
      "2             1            2            3          0    11250          4   \n",
      "3             1            2            3          0     9550          0   \n",
      "4             1            2            3          0    14260          2   \n",
      "\n",
      "   LotShape  LowQualFinSF  MSSubClass  MSZoning  MiscVal  MoSold  \\\n",
      "0         3             0          60         3        0       2   \n",
      "1         3             0          20         3        0       5   \n",
      "2         0             0          60         3        0       9   \n",
      "3         0             0          70         3        0       2   \n",
      "4         0             0          60         3        0      12   \n",
      "\n",
      "   Neighborhood  OpenPorchSF  OverallCond  OverallQual  PavedDrive  PoolArea  \\\n",
      "0             5           61            5            7           2         0   \n",
      "1            24            0            8            6           2         0   \n",
      "2             5           42            5            7           2         0   \n",
      "3             6           35            5            7           2         0   \n",
      "4            15           84            5            8           2         0   \n",
      "\n",
      "   RoofMatl  RoofStyle  SaleCondition  SaleType  ScreenPorch  Street  \\\n",
      "0         0          1              4         8            0       1   \n",
      "1         0          1              4         8            0       1   \n",
      "2         0          1              4         8            0       1   \n",
      "3         0          1              0         8            0       1   \n",
      "4         0          1              4         8            0       1   \n",
      "\n",
      "   TotRmsAbvGrd  TotalBsmtSF  Utilities  WoodDeckSF  YearBuilt  YearRemodAdd  \\\n",
      "0             8     6.752270          0           0       2003          2003   \n",
      "1             6     7.140453          0         298       1976          1976   \n",
      "2             6     6.824374          0           0       2001          2002   \n",
      "3             7     6.628041          0           0       1915          1970   \n",
      "4             9     7.043160          0         192       2000          2000   \n",
      "\n",
      "   YrSold  \n",
      "0    2008  \n",
      "1    2007  \n",
      "2    2008  \n",
      "3    2006  \n",
      "4    2008  \n",
      "   1stFlrSF  2ndFlrSF  3SsnPorch  BedroomAbvGr  BldgType  BsmtFinSF1  \\\n",
      "0       896         0          0             2         0       468.0   \n",
      "1      1329         0          0             3         0       923.0   \n",
      "2       928       701          0             3         0       791.0   \n",
      "3       926       678          0             3         0       602.0   \n",
      "4      1280         0          0             2         4       263.0   \n",
      "\n",
      "   BsmtFinSF2  BsmtFullBath  BsmtHalfBath  BsmtUnfSF  CentralAir  Condition1  \\\n",
      "0       144.0           0.0           0.0      270.0           1           1   \n",
      "1         0.0           0.0           0.0      406.0           1           2   \n",
      "2         0.0           0.0           0.0      137.0           1           2   \n",
      "3         0.0           0.0           0.0      324.0           1           2   \n",
      "4         0.0           0.0           0.0     1017.0           1           2   \n",
      "\n",
      "   Condition2  Electrical  EnclosedPorch  ExterCond  ExterQual  Exterior1st  \\\n",
      "0           2           4              0          4          3           12   \n",
      "1           2           4              0          4          3           13   \n",
      "2           2           4              0          4          3           12   \n",
      "3           2           4              0          4          3           12   \n",
      "4           2           4              0          4          2            6   \n",
      "\n",
      "   Exterior2nd  Fireplaces  Foundation  FullBath  Functional  GarageArea  \\\n",
      "0           13           0           1         1           6       730.0   \n",
      "1           14           0           1         1           6       312.0   \n",
      "2           13           1           2         2           6       482.0   \n",
      "3           13           1           2         2           6       470.0   \n",
      "4            6           0           2         2           6       506.0   \n",
      "\n",
      "   GarageCars  GrLivArea  HalfBath  HasBsmt  Heating  HeatingQC  HouseStyle  \\\n",
      "0         1.0   6.797940         0        1        1          4           2   \n",
      "1         1.0   7.192182         1        1        1          4           2   \n",
      "2         2.0   7.395722         1        1        1          2           5   \n",
      "3         2.0   7.380256         1        1        1          0           5   \n",
      "4         2.0   7.154615         0        1        1          0           2   \n",
      "\n",
      "   KitchenAbvGr  KitchenQual  LandContour  LandSlope  LotArea  LotConfig  \\\n",
      "0             1            3            3          0    11622          4   \n",
      "1             1            2            3          0    14267          0   \n",
      "2             1            3            3          0    13830          4   \n",
      "3             1            2            3          0     9978          4   \n",
      "4             1            2            1          0     5005          4   \n",
      "\n",
      "   LotShape  LowQualFinSF  MSSubClass  MSZoning  MiscVal  MoSold  \\\n",
      "0         3             0          20         2        0       6   \n",
      "1         0             0          20         3    12500       6   \n",
      "2         0             0          60         3        0       3   \n",
      "3         0             0          60         3        0       6   \n",
      "4         0             0         120         3        0       1   \n",
      "\n",
      "   Neighborhood  OpenPorchSF  OverallCond  OverallQual  PavedDrive  PoolArea  \\\n",
      "0            12            0            6            5           2         0   \n",
      "1            12           36            6            6           2         0   \n",
      "2             8           34            5            5           2         0   \n",
      "3             8           36            6            6           2         0   \n",
      "4            22           82            5            8           2         0   \n",
      "\n",
      "   RoofMatl  RoofStyle  SaleCondition  SaleType  ScreenPorch  Street  \\\n",
      "0         0          1              4         8          120       1   \n",
      "1         0          3              4         8            0       1   \n",
      "2         0          1              4         8            0       1   \n",
      "3         0          1              4         8            0       1   \n",
      "4         0          1              4         8          144       1   \n",
      "\n",
      "   TotRmsAbvGrd  TotalBsmtSF  Utilities  WoodDeckSF  YearBuilt  YearRemodAdd  \\\n",
      "0             5     6.782192          0         140       1961          1961   \n",
      "1             6     7.192182          0         393       1958          1958   \n",
      "2             6     6.833032          0         212       1997          1998   \n",
      "3             7     6.830874          0         360       1998          1998   \n",
      "4             5     7.154615          0           0       1992          1992   \n",
      "\n",
      "   YrSold  \n",
      "0    2010  \n",
      "1    2010  \n",
      "2    2010  \n",
      "3    2010  \n",
      "4    2010  \n"
     ]
    }
   ],
   "source": [
    "print(df_train.head())\n",
    "print(test.head())"
   ]
  },
  {
   "cell_type": "code",
   "execution_count": 483,
   "metadata": {},
   "outputs": [
    {
     "name": "stdout",
     "output_type": "stream",
     "text": [
      "経過時間:1.5239465236663818[sec]\n",
      "--End--\n"
     ]
    }
   ],
   "source": [
    "result = skl.predict(test)\n",
    "\n",
    "\n",
    "result = np.exp(result)\n",
    "\n",
    "\n",
    "submission = pd.DataFrame({\n",
    "    \"Id\": test_id,\n",
    "    \"SalePrice\": result\n",
    "})\n",
    "submission.to_csv('gs://sample_machine_learning_output/HousePrices/hp_submission8.csv', index=False)\n",
    "########\n",
    "elapsed_time = time.time() - start\n",
    "print (\"経過時間:{0}\".format(elapsed_time) + \"[sec]\")\n",
    "print(\"--End--\")"
   ]
  },
  {
   "cell_type": "code",
   "execution_count": null,
   "metadata": {},
   "outputs": [],
   "source": []
  }
 ],
 "metadata": {
  "kernelspec": {
   "display_name": "Python 3",
   "language": "python",
   "name": "python3"
  },
  "language_info": {
   "codemirror_mode": {
    "name": "ipython",
    "version": 3
   },
   "file_extension": ".py",
   "mimetype": "text/x-python",
   "name": "python",
   "nbconvert_exporter": "python",
   "pygments_lexer": "ipython3",
   "version": "3.5.3"
  }
 },
 "nbformat": 4,
 "nbformat_minor": 2
}
